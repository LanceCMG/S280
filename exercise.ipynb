{
 "cells": [
  {
   "cell_type": "markdown",
   "metadata": {},
   "source": [
    "Exer 2 I think?\n",
    "\n",
    "Create a Python class named BankAccount that simulates a simple bank account.\n",
    "\n",
    "The class should have two private variables:\n",
    "1. balance: stores the account balance (initially set to 0).\n",
    "2. pin: Stores the account PIN, which is required for performing sensitive operations like withdrawing money.\n",
    "\n",
    "Also the following methods:\n",
    "1. deposit(self, amount): Adds the specified amount to the account balance. Ensure the amount is positive.\n",
    "2. get_balance(self, pin): Returns the account balance if the correct pin is provided.\n",
    "3. withdraw(self, amount, pin): Withdraws the specified amount from the account balance if the correct pin is provided and if there are sufficient funds.\n",
    "\n",
    "And a private method:\n",
    "1. check_pin(self, pin): A private method that checks whether the provided PIN matches the account's PIN. It returns True if the PIN is correct, False otherwise."
   ]
  },
  {
   "cell_type": "code",
   "execution_count": 34,
   "metadata": {},
   "outputs": [],
   "source": [
    "# no imports used or recommended\n",
    "\n",
    "class BankAccount:\n",
    "    def __init__(self, pin:int):\n",
    "        self.__balance = 0\n",
    "        self.__pin = pin\n",
    "\n",
    "    def deposit(self, amount:float):\n",
    "        if amount <= 0:\n",
    "            print(\"You tried to deposit \" + str(amount) + \"PHP. Please deposit a valid amount.\")\n",
    "        elif amount > 0:\n",
    "            self.__balance += amount\n",
    "            print(\"You tried to deposit \" + str(amount) + \"PHP. Amount accepted and deposited successfully.\")\n",
    "        # else:\n",
    "        #     print(\"Invalid input.\")\n",
    "\n",
    "    # setup muna ito kasi need sa get balance\n",
    "    # pwede naman later isetup or earlier, pero for convenience na lang\n",
    "    def __check_pin(self, pin:int):\n",
    "        return (self.__pin == pin)\n",
    "\n",
    "    def get_balance(self, pin:int):\n",
    "        if self.__check_pin(pin):\n",
    "            print(\"Current Balance: \" + str(self.__balance) + \"PHP.\")\n",
    "        else:\n",
    "            print(\"Incorrect Pin.\")\n",
    "            \n",
    "    def withdraw(self, amount:float, pin:int):\n",
    "        if self.__check_pin(pin) and amount > 0 and amount <= self.__balance:\n",
    "            self.__balance -= amount\n",
    "            print (\"Withdrawal amount of \" + str(amount) + \"PHP accepted.\")\n",
    "        elif amount > self.__balance:\n",
    "            print (\"Insufficient funds.\")\n",
    "        elif amount <= 0:\n",
    "            print(\"You tried to withdraw \" + str(amount) + \"PHP. Please withdraw a valid amount.\")\n",
    "        elif not self.__check_pin(pin):\n",
    "            print(\"Invalid Pin.\")\n"
   ]
  },
  {
   "cell_type": "markdown",
   "metadata": {},
   "source": [
    "### Test Cases"
   ]
  },
  {
   "cell_type": "code",
   "execution_count": 35,
   "metadata": {},
   "outputs": [
    {
     "name": "stdout",
     "output_type": "stream",
     "text": [
      "You tried to deposit 1000PHP. Amount accepted and deposited successfully.\n",
      "You tried to deposit -100PHP. Please deposit a valid amount.\n",
      "Current Balance: 1000PHP.\n",
      "Incorrect Pin.\n",
      "Withdrawal amount of 50PHP accepted.\n",
      "Insufficient funds.\n",
      "You tried to withdraw -50PHP. Please withdraw a valid amount.\n",
      "Invalid Pin.\n"
     ]
    }
   ],
   "source": [
    "#setup\n",
    "newAccount = BankAccount(123456)\n",
    "\n",
    "#deposit\n",
    "newAccount.deposit(1000)\n",
    "newAccount.deposit(-100)\n",
    "\n",
    "#pin check\n",
    "newAccount.get_balance(123456)\n",
    "newAccount.get_balance(000000)\n",
    "\n",
    "#withdrawal\n",
    "newAccount.withdraw(amount = 50, pin = 123456)\n",
    "newAccount.withdraw(amount = 200000, pin = 123456)\n",
    "newAccount.withdraw(amount = -50, pin = 123456)\n",
    "newAccount.withdraw(amount = 50, pin = 000000)"
   ]
  }
 ],
 "metadata": {
  "kernelspec": {
   "display_name": "Python 3",
   "language": "python",
   "name": "python3"
  },
  "language_info": {
   "codemirror_mode": {
    "name": "ipython",
    "version": 3
   },
   "file_extension": ".py",
   "mimetype": "text/x-python",
   "name": "python",
   "nbconvert_exporter": "python",
   "pygments_lexer": "ipython3",
   "version": "3.9.11"
  }
 },
 "nbformat": 4,
 "nbformat_minor": 2
}
