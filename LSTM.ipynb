{
 "cells": [
  {
   "cell_type": "code",
   "execution_count": null,
   "id": "01df08b0-65c6-4040-b667-d4793cdfc239",
   "metadata": {},
   "outputs": [],
   "source": [
    "import numpy as np\n",
    "import pandas as pd\n",
    "import tensorflow as tf\n",
    "from tensorflow.keras.models import Sequential\n",
    "from tensorflow.keras.layers import LSTM, Dense\n",
    "from sklearn.metrics import mean_squared_error\n",
    "from sklearn.preprocessing import MinMaxScaler\n",
    "import matplotlib.pyplot as plt\n",
    "\n",
    "from statsmodels.tsa.arima.model import ARIMA\n",
    "from arch import arch_model\n",
    "from sklearn.metrics import mean_squared_error"
   ]
  },
  {
   "cell_type": "code",
   "execution_count": null,
   "id": "50220d45-31c6-4412-9888-d4a9cc65a514",
   "metadata": {},
   "outputs": [],
   "source": [
    "stock_data = pd.read_excel(\"stock_data.xlsx\")\n",
    "\n",
    "stock_data"
   ]
  },
  {
   "cell_type": "code",
   "execution_count": null,
   "id": "7461a9f0-c436-4240-bf10-7d80fd371f6a",
   "metadata": {},
   "outputs": [],
   "source": [
    "plt.plot(stock_data[\"Date\"], stock_data[\"SPY\"])\n",
    "plt.show()"
   ]
  },
  {
   "cell_type": "code",
   "execution_count": null,
   "id": "d1193305-e879-4291-b8ab-32cfed6c992d",
   "metadata": {},
   "outputs": [],
   "source": [
    "scaler = MinMaxScaler(feature_range=(0,1))\n",
    "data_scaled = scaler.fit_transform(stock_data[\"SPY\"].to_numpy().reshape(-1, 1))"
   ]
  },
  {
   "cell_type": "code",
   "execution_count": null,
   "id": "0dae474b-4aea-454d-9a16-34c0f645a466",
   "metadata": {},
   "outputs": [],
   "source": [
    "data_scaled.shape"
   ]
  },
  {
   "cell_type": "code",
   "execution_count": null,
   "id": "7c6d95f3-684d-4953-85ab-fa3c28db05f4",
   "metadata": {},
   "outputs": [],
   "source": [
    "def create_dataset(data, time_step=1):\n",
    "    X, y = [], []\n",
    "    for i in range(len(data) - time_step - 1):\n",
    "        X.append(data[i: (i + time_step), 0])\n",
    "        y.append(data[i + time_step, 0])\n",
    "    return np.array(X), np.array(y)\n",
    "\n",
    "time_step = 20\n",
    "X, y = create_dataset(data_scaled, time_step)"
   ]
  },
  {
   "cell_type": "code",
   "execution_count": null,
   "id": "9e30621b-3efd-450e-992c-b99101f63f67",
   "metadata": {},
   "outputs": [],
   "source": [
    "X = X.reshape(X.shape[0], X.shape[1], 1)\n",
    "X.shape"
   ]
  },
  {
   "cell_type": "code",
   "execution_count": null,
   "id": "dd0eba88-afed-4feb-9705-596e34f113f2",
   "metadata": {},
   "outputs": [],
   "source": [
    "train_size = int(0.8 * len(X))\n",
    "X_train, X_test = X[:train_size], X[train_size:]\n",
    "y_train, y_test = y[:train_size], y[train_size:]"
   ]
  },
  {
   "cell_type": "code",
   "execution_count": null,
   "id": "cc97bcc1-3812-4014-854d-0433bdc93a12",
   "metadata": {},
   "outputs": [],
   "source": [
    "model = Sequential()\n",
    "model.add(LSTM(50, return_sequences=True, input_shape=(time_step, 1)))\n",
    "model.add(LSTM(50, return_sequences=False))\n",
    "model.add(Dense(1))\n",
    "\n",
    "model.compile(optimizer='adam', loss='mean_squared_error')\n",
    "history = model.fit(X_train, y_train, epochs=20, batch_size=32, validation_data=(X_test,y_test))"
   ]
  },
  {
   "cell_type": "code",
   "execution_count": null,
   "id": "2b0d8f26-3378-42cd-ac62-407561c4948f",
   "metadata": {},
   "outputs": [],
   "source": [
    "train_predict = model.predict(X_train)\n",
    "test_predict = model.predict(X_test)"
   ]
  },
  {
   "cell_type": "code",
   "execution_count": null,
   "id": "53314d09-dae8-4a62-b459-9b1097cf47ff",
   "metadata": {},
   "outputs": [],
   "source": [
    "train_predict = scaler.inverse_transform(train_predict)\n",
    "y_train = scaler.inverse_transform(y_train.reshape(-1, 1))\n",
    "test_predict = scaler.inverse_transform(test_predict)\n",
    "y_test = scaler.inverse_transform(y_test.reshape(-1, 1))"
   ]
  },
  {
   "cell_type": "code",
   "execution_count": null,
   "id": "b987ac72-9a33-4c38-83d4-06b4402ccf64",
   "metadata": {},
   "outputs": [],
   "source": [
    "train_score = mean_squared_error(y_train[:,0], train_predict[:,0])\n",
    "test_score = mean_squared_error(y_test[:,0], test_predict[:,0])\n",
    "\n",
    "print(f\"Train MSE: {train_score: .4f}\")\n",
    "print(f\"Test MSE: {test_score: .4f}\")"
   ]
  },
  {
   "cell_type": "code",
   "execution_count": null,
   "id": "bc442956-249a-429b-857d-2424423d0ef2",
   "metadata": {},
   "outputs": [],
   "source": [
    "plt.plot(scaler.inverse_transform(data_scaled), label=\"SPY (Original)\")\n",
    "train_plot = np.empty_like(data_scaled)\n",
    "train_plot[:,:] = np.nan\n",
    "train_plot[time_step:len(train_predict) + time_step, :] = train_predict\n",
    "plt.plot(train_plot, label=\"In-Sample Prediction\")\n",
    "\n",
    "test_plot = np.empty_like(data_scaled)\n",
    "test_plot[:,:] = np.nan\n",
    "test_plot[len(train_predict) + 1:len(train_predict) + len(test_predict) + 1, :] = test_predict\n",
    "plt.plot(test_plot, label=\"Out-Sample Prediction\")\n",
    "plt.legend()\n",
    "plt.show()"
   ]
  },
  {
   "cell_type": "markdown",
   "id": "05a5ac94-2a7e-4fbd-8cf5-953a2f7a12be",
   "metadata": {},
   "source": [
    "## Comparison with ARIMA"
   ]
  },
  {
   "cell_type": "code",
   "execution_count": 168,
   "id": "e6767f38-3f61-491b-91ab-71274f784dee",
   "metadata": {},
   "outputs": [
    {
     "name": "stdout",
     "output_type": "stream",
     "text": [
      "                               SARIMAX Results                                \n",
      "==============================================================================\n",
      "Dep. Variable:                      y   No. Observations:                  776\n",
      "Model:                 ARIMA(1, 1, 0)   Log Likelihood                2026.964\n",
      "Date:                Sat, 09 Nov 2024   AIC                          -4049.928\n",
      "Time:                        11:54:21   BIC                          -4040.622\n",
      "Sample:                             0   HQIC                         -4046.347\n",
      "                                - 776                                         \n",
      "Covariance Type:                  opg                                         \n",
      "==============================================================================\n",
      "                 coef    std err          z      P>|z|      [0.025      0.975]\n",
      "------------------------------------------------------------------------------\n",
      "ar.L1         -0.1482      0.018     -8.213      0.000      -0.184      -0.113\n",
      "sigma2         0.0003   8.11e-06     38.615      0.000       0.000       0.000\n",
      "===================================================================================\n",
      "Ljung-Box (L1) (Q):                   0.14   Jarque-Bera (JB):              1265.46\n",
      "Prob(Q):                              0.71   Prob(JB):                         0.00\n",
      "Heteroskedasticity (H):               3.98   Skew:                            -0.97\n",
      "Prob(H) (two-sided):                  0.00   Kurtosis:                         8.95\n",
      "===================================================================================\n",
      "\n",
      "Warnings:\n",
      "[1] Covariance matrix calculated using the outer product of gradients (complex-step).\n"
     ]
    },
    {
     "name": "stderr",
     "output_type": "stream",
     "text": [
      "/opt/anaconda3/lib/python3.12/site-packages/statsmodels/base/model.py:607: ConvergenceWarning: Maximum Likelihood optimization failed to converge. Check mle_retvals\n",
      "  warnings.warn(\"Maximum Likelihood optimization failed to \"\n"
     ]
    }
   ],
   "source": [
    "scaler = MinMaxScaler(feature_range=(0,1))\n",
    "data_scaled = scaler.fit_transform(stock_data[\"SPY\"].to_numpy().reshape(-1, 1))\n",
    "y_train, y_test = y[:train_size], y[train_size:]\n",
    "\n",
    "p, d, q = 1, 1, 0\n",
    "arima_model = ARIMA(y_train, order = (p, d, q))\n",
    "arima_fitted = arima_model.fit()\n",
    "\n",
    "print(arima_fitted.summary())"
   ]
  },
  {
   "cell_type": "code",
   "execution_count": 170,
   "id": "066f2d92-a265-4cf0-bc1b-5d7296a64770",
   "metadata": {},
   "outputs": [],
   "source": [
    "train_pred = arima_fitted.predict(start=0, end=len(y_train)-1)\n",
    "test_pred = arima_fitted.predict(start=len(y_train), end=len(y_train) + len(y_test) -1)"
   ]
  },
  {
   "cell_type": "code",
   "execution_count": 172,
   "id": "720854ec-b301-4dd4-bba3-54baca76467e",
   "metadata": {},
   "outputs": [],
   "source": [
    "train_predict = scaler.inverse_transform(train_pred.reshape(-1, 1))\n",
    "y_train = scaler.inverse_transform(y_train.reshape(-1, 1))\n",
    "\n",
    "test_predict = scaler.inverse_transform(test_pred.reshape(-1, 1))\n",
    "y_test = scaler.inverse_transform(y_test.reshape(-1, 1))"
   ]
  },
  {
   "cell_type": "code",
   "execution_count": 174,
   "id": "3c281544-ea53-48fd-9ef8-5b29ee95b696",
   "metadata": {},
   "outputs": [
    {
     "name": "stdout",
     "output_type": "stream",
     "text": [
      "Train MSE:  21.8428\n",
      "Test MSE:  812.6733\n"
     ]
    }
   ],
   "source": [
    "train_score = mean_squared_error(y_train[:,0], train_predict[:,0])\n",
    "test_score = mean_squared_error(y_test[:,0], test_predict[:,0])\n",
    "\n",
    "print(f\"Train MSE: {train_score: .4f}\")\n",
    "print(f\"Test MSE: {test_score: .4f}\")"
   ]
  },
  {
   "cell_type": "code",
   "execution_count": 176,
   "id": "33268deb-d6f5-4b0c-88a0-6e32293aef7a",
   "metadata": {},
   "outputs": [
    {
     "data": {
      "image/png": "[encoded data removed]",
      "text/plain": [
       "<Figure size 640x480 with 1 Axes>"
      ]
     },
     "metadata": {},
     "output_type": "display_data"
    }
   ],
   "source": [
    "plt.plot(scaler.inverse_transform(data_scaled), label=\"SPY (Original)\")\n",
    "train_plot = np.empty_like(data_scaled)\n",
    "train_plot[:,:] = np.nan\n",
    "train_plot[:len(train_predict), :] = train_predict\n",
    "plt.plot(train_plot, label=\"In-Sample Prediction\")\n",
    "\n",
    "test_plot = np.empty_like(data_scaled)\n",
    "test_plot[:,:] = np.nan\n",
    "test_plot[len(y_train):len(y_train) + len(y_test), :] = test_predict\n",
    "plt.plot(test_plot, label=\"Out-Sample Prediction\")\n",
    "plt.legend()\n",
    "plt.show()"
   ]
  },
  {
   "cell_type": "markdown",
   "id": "b1ec0472-fc99-4a20-aab6-bf6dd26f2086",
   "metadata": {},
   "source": [
    "## Comparison with ARIMA-GARCH"
   ]
  },
  {
   "cell_type": "code",
   "execution_count": 201,
   "id": "60bf45e6-a915-44ae-85d8-428a34ca23cb",
   "metadata": {},
   "outputs": [
    {
     "name": "stdout",
     "output_type": "stream",
     "text": [
      "Iteration:      1,   Func. Count:      6,   Neg. LLF: 1378145715.941821\n",
      "Iteration:      2,   Func. Count:     19,   Neg. LLF: 33794.722106500456\n",
      "Iteration:      3,   Func. Count:     30,   Neg. LLF: 54485596.575305834\n",
      "Iteration:      4,   Func. Count:     42,   Neg. LLF: 1244.5306530459357\n",
      "Iteration:      5,   Func. Count:     53,   Neg. LLF: 153402.51799665304\n",
      "Iteration:      6,   Func. Count:     65,   Neg. LLF: 155530322.41423202\n",
      "Iteration:      7,   Func. Count:     78,   Neg. LLF: 40294084.13213287\n",
      "Optimization terminated successfully    (Exit mode 0)\n",
      "            Current function value: -2189.8374312833193\n",
      "            Iterations: 11\n",
      "            Function evaluations: 87\n",
      "            Gradient evaluations: 7\n"
     ]
    },
    {
     "name": "stderr",
     "output_type": "stream",
     "text": [
      "/opt/anaconda3/lib/python3.12/site-packages/statsmodels/base/model.py:607: ConvergenceWarning: Maximum Likelihood optimization failed to converge. Check mle_retvals\n",
      "  warnings.warn(\"Maximum Likelihood optimization failed to \"\n",
      "/opt/anaconda3/lib/python3.12/site-packages/arch/univariate/base.py:309: DataScaleWarning: y is poorly scaled, which may affect convergence of the optimizer when\n",
      "estimating the model parameters. The scale of y is 0.0003359. Parameter\n",
      "estimation work better when this value is between 1 and 1000. The recommended\n",
      "rescaling is 100 * y.\n",
      "\n",
      "This warning can be disabled by either rescaling y before initializing the\n",
      "model or by setting rescale=False.\n",
      "\n",
      "  warnings.warn(\n"
     ]
    }
   ],
   "source": [
    "scaler = MinMaxScaler(feature_range=(0,1))\n",
    "data_scaled = scaler.fit_transform(stock_data[\"SPY\"].to_numpy().reshape(-1, 1))\n",
    "y_train, y_test = y[:train_size], y[train_size:]\n",
    "\n",
    "p, d, q = 1, 1, 0\n",
    "arima_model = ARIMA(y_train, order = (p, d, q))\n",
    "arima_fitted = arima_model.fit()\n",
    "arima_residuals = arima_fitted.resid\n",
    "\n",
    "garch_model = arch_model(arima_residuals, vol='Garch', p=1, q=1)\n",
    "garch_fitted = garch_model.fit()"
   ]
  },
  {
   "cell_type": "code",
   "execution_count": 203,
   "id": "8e225a1e-e5a1-4447-b3a6-7196cd5daa9c",
   "metadata": {},
   "outputs": [
    {
     "data": {
      "text/html": [
       "<table class=\"simpletable\">\n",
       "<caption>Constant Mean - GARCH Model Results</caption>\n",
       "<tr>\n",
       "  <th>Dep. Variable:</th>          <td>y</td>         <th>  R-squared:         </th>  <td>   0.000</td> \n",
       "</tr>\n",
       "<tr>\n",
       "  <th>Mean Model:</th>       <td>Constant Mean</td>   <th>  Adj. R-squared:    </th>  <td>   0.000</td> \n",
       "</tr>\n",
       "<tr>\n",
       "  <th>Vol Model:</th>            <td>GARCH</td>       <th>  Log-Likelihood:    </th> <td>   2189.84</td>\n",
       "</tr>\n",
       "<tr>\n",
       "  <th>Distribution:</th>        <td>Normal</td>       <th>  AIC:               </th> <td>  -4371.67</td>\n",
       "</tr>\n",
       "<tr>\n",
       "  <th>Method:</th>        <td>Maximum Likelihood</td> <th>  BIC:               </th> <td>  -4353.06</td>\n",
       "</tr>\n",
       "<tr>\n",
       "  <th></th>                        <td></td>          <th>  No. Observations:  </th>     <td>776</td>   \n",
       "</tr>\n",
       "<tr>\n",
       "  <th>Date:</th>           <td>Sat, Nov 09 2024</td>  <th>  Df Residuals:      </th>     <td>775</td>   \n",
       "</tr>\n",
       "<tr>\n",
       "  <th>Time:</th>               <td>12:12:47</td>      <th>  Df Model:          </th>      <td>1</td>    \n",
       "</tr>\n",
       "</table>\n",
       "<table class=\"simpletable\">\n",
       "<caption>Mean Model</caption>\n",
       "<tr>\n",
       "   <td></td>     <th>coef</th>     <th>std err</th>      <th>t</th>     <th>P>|t|</th>   <th>95.0% Conf. Int.</th>   \n",
       "</tr>\n",
       "<tr>\n",
       "  <th>mu</th> <td>1.6948e-03</td> <td>2.450e-06</td> <td>  691.731</td> <td>0.000</td> <td>[1.690e-03,1.700e-03]</td>\n",
       "</tr>\n",
       "</table>\n",
       "<table class=\"simpletable\">\n",
       "<caption>Volatility Model</caption>\n",
       "<tr>\n",
       "      <td></td>        <th>coef</th>     <th>std err</th>      <th>t</th>       <th>P>|t|</th>     <th>95.0% Conf. Int.</th>   \n",
       "</tr>\n",
       "<tr>\n",
       "  <th>omega</th>    <td>6.7314e-06</td> <td>1.555e-10</td> <td>4.329e+04</td>   <td>0.000</td>   <td>[6.731e-06,6.732e-06]</td>\n",
       "</tr>\n",
       "<tr>\n",
       "  <th>alpha[1]</th> <td>    0.2000</td> <td>4.861e-02</td> <td>    4.114</td> <td>3.882e-05</td>   <td>[  0.105,  0.295]</td>  \n",
       "</tr>\n",
       "<tr>\n",
       "  <th>beta[1]</th>  <td>    0.7800</td> <td>4.055e-02</td> <td>   19.235</td> <td>1.872e-82</td>   <td>[  0.701,  0.859]</td>  \n",
       "</tr>\n",
       "</table><br/><br/>Covariance estimator: robust"
      ],
      "text/latex": [
       "\\begin{center}\n",
       "\\begin{tabular}{lclc}\n",
       "\\toprule\n",
       "\\textbf{Dep. Variable:} &         y          & \\textbf{  R-squared:         } &     0.000   \\\\\n",
       "\\textbf{Mean Model:}    &   Constant Mean    & \\textbf{  Adj. R-squared:    } &     0.000   \\\\\n",
       "\\textbf{Vol Model:}     &       GARCH        & \\textbf{  Log-Likelihood:    } &    2189.84  \\\\\n",
       "\\textbf{Distribution:}  &       Normal       & \\textbf{  AIC:               } &   -4371.67  \\\\\n",
       "\\textbf{Method:}        & Maximum Likelihood & \\textbf{  BIC:               } &   -4353.06  \\\\\n",
       "\\textbf{}               &                    & \\textbf{  No. Observations:  } &    776      \\\\\n",
       "\\textbf{Date:}          &  Sat, Nov 09 2024  & \\textbf{  Df Residuals:      } &    775      \\\\\n",
       "\\textbf{Time:}          &      12:12:47      & \\textbf{  Df Model:          } &     1       \\\\\n",
       "\\bottomrule\n",
       "\\end{tabular}\n",
       "\\begin{tabular}{lccccc}\n",
       "            & \\textbf{coef} & \\textbf{std err} & \\textbf{t} & \\textbf{P$> |$t$|$} & \\textbf{95.0\\% Conf. Int.}  \\\\\n",
       "\\midrule\n",
       "\\textbf{mu} &   1.6948e-03  &    2.450e-06     &   691.731  &        0.000         &   [1.690e-03,1.700e-03]     \\\\\n",
       "                  & \\textbf{coef} & \\textbf{std err} & \\textbf{t} & \\textbf{P$> |$t$|$} & \\textbf{95.0\\% Conf. Int.}  \\\\\n",
       "\\midrule\n",
       "\\textbf{omega}    &   6.7314e-06  &    1.555e-10     & 4.329e+04  &        0.000         &   [6.731e-06,6.732e-06]     \\\\\n",
       "\\textbf{alpha[1]} &       0.2000  &    4.861e-02     &     4.114  &      3.882e-05       &     [  0.105,  0.295]       \\\\\n",
       "\\textbf{beta[1]}  &       0.7800  &    4.055e-02     &    19.235  &      1.872e-82       &     [  0.701,  0.859]       \\\\\n",
       "\\bottomrule\n",
       "\\end{tabular}\n",
       "%\\caption{Constant Mean - GARCH Model Results}\n",
       "\\end{center}\n",
       "\n",
       "Covariance estimator: robust"
      ],
      "text/plain": [
       "<class 'statsmodels.iolib.summary.Summary'>\n",
       "\"\"\"\n",
       "                     Constant Mean - GARCH Model Results                      \n",
       "==============================================================================\n",
       "Dep. Variable:                      y   R-squared:                       0.000\n",
       "Mean Model:             Constant Mean   Adj. R-squared:                  0.000\n",
       "Vol Model:                      GARCH   Log-Likelihood:                2189.84\n",
       "Distribution:                  Normal   AIC:                          -4371.67\n",
       "Method:            Maximum Likelihood   BIC:                          -4353.06\n",
       "                                        No. Observations:                  776\n",
       "Date:                Sat, Nov 09 2024   Df Residuals:                      775\n",
       "Time:                        12:12:47   Df Model:                            1\n",
       "                                 Mean Model                                 \n",
       "============================================================================\n",
       "                 coef    std err          t      P>|t|      95.0% Conf. Int.\n",
       "----------------------------------------------------------------------------\n",
       "mu         1.6948e-03  2.450e-06    691.731      0.000 [1.690e-03,1.700e-03]\n",
       "                              Volatility Model                              \n",
       "============================================================================\n",
       "                 coef    std err          t      P>|t|      95.0% Conf. Int.\n",
       "----------------------------------------------------------------------------\n",
       "omega      6.7314e-06  1.555e-10  4.329e+04      0.000 [6.731e-06,6.732e-06]\n",
       "alpha[1]       0.2000  4.861e-02      4.114  3.882e-05     [  0.105,  0.295]\n",
       "beta[1]        0.7800  4.055e-02     19.235  1.872e-82     [  0.701,  0.859]\n",
       "============================================================================\n",
       "\n",
       "Covariance estimator: robust\n",
       "\"\"\""
      ]
     },
     "execution_count": 203,
     "metadata": {},
     "output_type": "execute_result"
    }
   ],
   "source": [
    "garch_fitted.summary()"
   ]
  },
  {
   "cell_type": "code",
   "execution_count": 205,
   "id": "b2282b7e-d34e-46ad-816b-105b87c65f05",
   "metadata": {},
   "outputs": [
    {
     "name": "stdout",
     "output_type": "stream",
     "text": [
      "ARCH Test p-value: 0.9994164793046664\n"
     ]
    }
   ],
   "source": [
    "garch_residuals = garch_fitted.std_resid\n",
    "\n",
    "from statsmodels.stats.diagnostic import het_arch\n",
    "arch_test_stat, arch_test_pval, _, _ = het_arch(garch_residuals**2)\n",
    "\n",
    "print(f\"ARCH Test p-value: {arch_test_pval}\")"
   ]
  },
  {
   "cell_type": "code",
   "execution_count": 209,
   "id": "c9bac0cf-7547-43c8-9dd3-5b97371c9247",
   "metadata": {},
   "outputs": [
    {
     "data": {
      "text/plain": [
       "(200,)"
      ]
     },
     "execution_count": 209,
     "metadata": {},
     "output_type": "execute_result"
    }
   ],
   "source": [
    "arima_test_pred.shape"
   ]
  },
  {
   "cell_type": "code",
   "execution_count": 211,
   "id": "39238f3e-b029-4638-be57-9cc5731645e9",
   "metadata": {},
   "outputs": [],
   "source": [
    "arima_train_pred = arima_fitted.predict(start=0, end=len(y_train)-1)\n",
    "garch_train_predictions = np.sqrt(garch_fitted.forecast(horizon=len(y_train)).variance.values[-1, :])\n",
    "train_pred = arima_train_pred + garch_train_predictions\n",
    "\n",
    "arima_test_pred = arima_fitted.predict(start=len(y_train), end=len(y_train) + len(y_test) -1)\n",
    "garch_test_predictions = np.sqrt(garch_fitted.forecast(horizon=len(y_test)).variance.values[-1, :])\n",
    "test_pred = arima_test_pred + garch_test_predictions"
   ]
  },
  {
   "cell_type": "code",
   "execution_count": 215,
   "id": "a4d33833-1ef3-4060-b0d7-f7619d408781",
   "metadata": {},
   "outputs": [],
   "source": [
    "train_predict = scaler.inverse_transform(train_pred.reshape(-1, 1))\n",
    "y_train = scaler.inverse_transform(y_train.reshape(-1, 1))\n",
    "\n",
    "test_predict = scaler.inverse_transform(test_pred.reshape(-1, 1))\n",
    "y_test = scaler.inverse_transform(y_test.reshape(-1, 1))"
   ]
  },
  {
   "cell_type": "code",
   "execution_count": 217,
   "id": "62684315-b7a7-4ada-85ce-2a9c1338282d",
   "metadata": {},
   "outputs": [
    {
     "name": "stdout",
     "output_type": "stream",
     "text": [
      "Train MSE:  42.5421\n",
      "Test MSE:  1089.1817\n"
     ]
    }
   ],
   "source": [
    "train_score = mean_squared_error(y_train[:,0], train_predict[:,0])\n",
    "test_score = mean_squared_error(y_test[:,0], test_predict[:,0])\n",
    "\n",
    "print(f\"Train MSE: {train_score: .4f}\")\n",
    "print(f\"Test MSE: {test_score: .4f}\")"
   ]
  },
  {
   "cell_type": "code",
   "execution_count": 221,
   "id": "03d51f94-07b6-432b-a90f-ab82121cdd0b",
   "metadata": {},
   "outputs": [
    {
     "data": {
      "image/png": "[encoded data removed]",
      "text/plain": [
       "<Figure size 640x480 with 1 Axes>"
      ]
     },
     "metadata": {},
     "output_type": "display_data"
    }
   ],
   "source": [
    "plt.plot(scaler.inverse_transform(data_scaled), label=\"SPY (Original)\")\n",
    "train_plot = np.empty_like(data_scaled)\n",
    "train_plot[:,:] = np.nan\n",
    "train_plot[:len(train_predict), :] = train_predict\n",
    "plt.plot(train_plot, label=\"In-Sample Prediction\")\n",
    "\n",
    "test_plot = np.empty_like(data_scaled)\n",
    "test_plot[:,:] = np.nan\n",
    "test_plot[len(y_train):len(y_train) + len(y_test), :] = test_predict\n",
    "plt.plot(test_plot, label=\"Out-Sample Prediction\")\n",
    "plt.legend()\n",
    "plt.show()"
   ]
  },
  {
   "cell_type": "code",
   "execution_count": null,
   "id": "d1ac88f5-377a-405c-8bd7-3ca339f40b76",
   "metadata": {},
   "outputs": [],
   "source": []
  }
 ],
 "metadata": {
  "kernelspec": {
   "display_name": "Python 3 (ipykernel)",
   "language": "python",
   "name": "python3"
  },
  "language_info": {
   "codemirror_mode": {
    "name": "ipython",
    "version": 3
   },
   "file_extension": ".py",
   "mimetype": "text/x-python",
   "name": "python",
   "nbconvert_exporter": "python",
   "pygments_lexer": "ipython3",
   "version": "3.12.4"
  }
 },
 "nbformat": 4,
 "nbformat_minor": 5
}
