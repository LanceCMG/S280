{
 "cells": [
  {
   "cell_type": "markdown",
   "metadata": {},
   "source": [
    "Create a 3x3 matrix A with the following elements A = [1,2,3,4,5,6,7,8,9]\n",
    "\n",
    "Also create a 3x1 mmatrix B: B = [2,1,3]\n",
    "\n",
    "Create a new matrix C by adding A and a 3x3 identity matrix.\n",
    "Perform matrix multiplication between a and B to create a new matrix D\n",
    "Perform element-wise multiplication between A and itself to create a new matrix E\n",
    "Check if matrix A is invertible. If so, find the inverse of matrix A. For this exercise, create a near array to replace A for inversion"
   ]
  },
  {
   "cell_type": "code",
   "execution_count": null,
   "metadata": {},
   "outputs": [],
   "source": [
    "# IMPORTS\n",
    "import numpy as np"
   ]
  }
 ],
 "metadata": {
  "language_info": {
   "name": "python"
  }
 },
 "nbformat": 4,
 "nbformat_minor": 2
}
